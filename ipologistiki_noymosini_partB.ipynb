{
 "cells": [
  {
   "cell_type": "code",
   "execution_count": 1,
   "metadata": {},
   "outputs": [
    {
     "data": {
      "text/html": [
       "<div>\n",
       "<style scoped>\n",
       "    .dataframe tbody tr th:only-of-type {\n",
       "        vertical-align: middle;\n",
       "    }\n",
       "\n",
       "    .dataframe tbody tr th {\n",
       "        vertical-align: top;\n",
       "    }\n",
       "\n",
       "    .dataframe thead th {\n",
       "        text-align: right;\n",
       "    }\n",
       "</style>\n",
       "<table border=\"1\" class=\"dataframe\">\n",
       "  <thead>\n",
       "    <tr style=\"text-align: right;\">\n",
       "      <th></th>\n",
       "      <th>user_id</th>\n",
       "      <th>item_id</th>\n",
       "      <th>rating</th>\n",
       "      <th>timestamp</th>\n",
       "    </tr>\n",
       "  </thead>\n",
       "  <tbody>\n",
       "    <tr>\n",
       "      <th>0</th>\n",
       "      <td>196</td>\n",
       "      <td>242</td>\n",
       "      <td>3</td>\n",
       "      <td>881250949</td>\n",
       "    </tr>\n",
       "    <tr>\n",
       "      <th>1</th>\n",
       "      <td>186</td>\n",
       "      <td>302</td>\n",
       "      <td>3</td>\n",
       "      <td>891717742</td>\n",
       "    </tr>\n",
       "    <tr>\n",
       "      <th>2</th>\n",
       "      <td>22</td>\n",
       "      <td>377</td>\n",
       "      <td>1</td>\n",
       "      <td>878887116</td>\n",
       "    </tr>\n",
       "    <tr>\n",
       "      <th>3</th>\n",
       "      <td>244</td>\n",
       "      <td>51</td>\n",
       "      <td>2</td>\n",
       "      <td>880606923</td>\n",
       "    </tr>\n",
       "    <tr>\n",
       "      <th>4</th>\n",
       "      <td>166</td>\n",
       "      <td>346</td>\n",
       "      <td>1</td>\n",
       "      <td>886397596</td>\n",
       "    </tr>\n",
       "  </tbody>\n",
       "</table>\n",
       "</div>"
      ],
      "text/plain": [
       "   user_id  item_id  rating  timestamp\n",
       "0      196      242       3  881250949\n",
       "1      186      302       3  891717742\n",
       "2       22      377       1  878887116\n",
       "3      244       51       2  880606923\n",
       "4      166      346       1  886397596"
      ]
     },
     "execution_count": 1,
     "metadata": {},
     "output_type": "execute_result"
    }
   ],
   "source": [
    "import pandas as pd\n",
    "import numpy as np\n",
    "\n",
    "df = pd.read_csv('Desktop/ml-100k/u.data',sep='\\t',header=None,names=['user_id','item_id','rating','timestamp'])\n",
    "df.head()"
   ]
  },
  {
   "cell_type": "code",
   "execution_count": 2,
   "metadata": {},
   "outputs": [
    {
     "data": {
      "text/html": [
       "<div>\n",
       "<style scoped>\n",
       "    .dataframe tbody tr th:only-of-type {\n",
       "        vertical-align: middle;\n",
       "    }\n",
       "\n",
       "    .dataframe tbody tr th {\n",
       "        vertical-align: top;\n",
       "    }\n",
       "\n",
       "    .dataframe thead th {\n",
       "        text-align: right;\n",
       "    }\n",
       "</style>\n",
       "<table border=\"1\" class=\"dataframe\">\n",
       "  <thead>\n",
       "    <tr style=\"text-align: right;\">\n",
       "      <th></th>\n",
       "      <th>user_id</th>\n",
       "      <th>item_id</th>\n",
       "      <th>rating</th>\n",
       "    </tr>\n",
       "  </thead>\n",
       "  <tbody>\n",
       "    <tr>\n",
       "      <th>0</th>\n",
       "      <td>196</td>\n",
       "      <td>242</td>\n",
       "      <td>3</td>\n",
       "    </tr>\n",
       "    <tr>\n",
       "      <th>1</th>\n",
       "      <td>186</td>\n",
       "      <td>302</td>\n",
       "      <td>3</td>\n",
       "    </tr>\n",
       "    <tr>\n",
       "      <th>2</th>\n",
       "      <td>22</td>\n",
       "      <td>377</td>\n",
       "      <td>1</td>\n",
       "    </tr>\n",
       "    <tr>\n",
       "      <th>3</th>\n",
       "      <td>244</td>\n",
       "      <td>51</td>\n",
       "      <td>2</td>\n",
       "    </tr>\n",
       "    <tr>\n",
       "      <th>4</th>\n",
       "      <td>166</td>\n",
       "      <td>346</td>\n",
       "      <td>1</td>\n",
       "    </tr>\n",
       "  </tbody>\n",
       "</table>\n",
       "</div>"
      ],
      "text/plain": [
       "   user_id  item_id  rating\n",
       "0      196      242       3\n",
       "1      186      302       3\n",
       "2       22      377       1\n",
       "3      244       51       2\n",
       "4      166      346       1"
      ]
     },
     "execution_count": 2,
     "metadata": {},
     "output_type": "execute_result"
    }
   ],
   "source": [
    "df = df.drop('timestamp',axis=1)\n",
    "df.head()"
   ]
  },
  {
   "cell_type": "code",
   "execution_count": 3,
   "metadata": {},
   "outputs": [
    {
     "data": {
      "text/html": [
       "<div>\n",
       "<style scoped>\n",
       "    .dataframe tbody tr th:only-of-type {\n",
       "        vertical-align: middle;\n",
       "    }\n",
       "\n",
       "    .dataframe tbody tr th {\n",
       "        vertical-align: top;\n",
       "    }\n",
       "\n",
       "    .dataframe thead th {\n",
       "        text-align: right;\n",
       "    }\n",
       "</style>\n",
       "<table border=\"1\" class=\"dataframe\">\n",
       "  <thead>\n",
       "    <tr style=\"text-align: right;\">\n",
       "      <th>item_id</th>\n",
       "      <th>1</th>\n",
       "      <th>2</th>\n",
       "      <th>3</th>\n",
       "      <th>4</th>\n",
       "      <th>5</th>\n",
       "      <th>6</th>\n",
       "      <th>7</th>\n",
       "      <th>8</th>\n",
       "      <th>9</th>\n",
       "      <th>10</th>\n",
       "      <th>...</th>\n",
       "      <th>1673</th>\n",
       "      <th>1674</th>\n",
       "      <th>1675</th>\n",
       "      <th>1676</th>\n",
       "      <th>1677</th>\n",
       "      <th>1678</th>\n",
       "      <th>1679</th>\n",
       "      <th>1680</th>\n",
       "      <th>1681</th>\n",
       "      <th>1682</th>\n",
       "    </tr>\n",
       "    <tr>\n",
       "      <th>user_id</th>\n",
       "      <th></th>\n",
       "      <th></th>\n",
       "      <th></th>\n",
       "      <th></th>\n",
       "      <th></th>\n",
       "      <th></th>\n",
       "      <th></th>\n",
       "      <th></th>\n",
       "      <th></th>\n",
       "      <th></th>\n",
       "      <th></th>\n",
       "      <th></th>\n",
       "      <th></th>\n",
       "      <th></th>\n",
       "      <th></th>\n",
       "      <th></th>\n",
       "      <th></th>\n",
       "      <th></th>\n",
       "      <th></th>\n",
       "      <th></th>\n",
       "      <th></th>\n",
       "    </tr>\n",
       "  </thead>\n",
       "  <tbody>\n",
       "    <tr>\n",
       "      <th>1</th>\n",
       "      <td>5.0</td>\n",
       "      <td>3.0</td>\n",
       "      <td>4.0</td>\n",
       "      <td>3.0</td>\n",
       "      <td>3.0</td>\n",
       "      <td>5.0</td>\n",
       "      <td>4.0</td>\n",
       "      <td>1.0</td>\n",
       "      <td>5.0</td>\n",
       "      <td>3.0</td>\n",
       "      <td>...</td>\n",
       "      <td>NaN</td>\n",
       "      <td>NaN</td>\n",
       "      <td>NaN</td>\n",
       "      <td>NaN</td>\n",
       "      <td>NaN</td>\n",
       "      <td>NaN</td>\n",
       "      <td>NaN</td>\n",
       "      <td>NaN</td>\n",
       "      <td>NaN</td>\n",
       "      <td>NaN</td>\n",
       "    </tr>\n",
       "    <tr>\n",
       "      <th>2</th>\n",
       "      <td>4.0</td>\n",
       "      <td>NaN</td>\n",
       "      <td>NaN</td>\n",
       "      <td>NaN</td>\n",
       "      <td>NaN</td>\n",
       "      <td>NaN</td>\n",
       "      <td>NaN</td>\n",
       "      <td>NaN</td>\n",
       "      <td>NaN</td>\n",
       "      <td>2.0</td>\n",
       "      <td>...</td>\n",
       "      <td>NaN</td>\n",
       "      <td>NaN</td>\n",
       "      <td>NaN</td>\n",
       "      <td>NaN</td>\n",
       "      <td>NaN</td>\n",
       "      <td>NaN</td>\n",
       "      <td>NaN</td>\n",
       "      <td>NaN</td>\n",
       "      <td>NaN</td>\n",
       "      <td>NaN</td>\n",
       "    </tr>\n",
       "    <tr>\n",
       "      <th>3</th>\n",
       "      <td>NaN</td>\n",
       "      <td>NaN</td>\n",
       "      <td>NaN</td>\n",
       "      <td>NaN</td>\n",
       "      <td>NaN</td>\n",
       "      <td>NaN</td>\n",
       "      <td>NaN</td>\n",
       "      <td>NaN</td>\n",
       "      <td>NaN</td>\n",
       "      <td>NaN</td>\n",
       "      <td>...</td>\n",
       "      <td>NaN</td>\n",
       "      <td>NaN</td>\n",
       "      <td>NaN</td>\n",
       "      <td>NaN</td>\n",
       "      <td>NaN</td>\n",
       "      <td>NaN</td>\n",
       "      <td>NaN</td>\n",
       "      <td>NaN</td>\n",
       "      <td>NaN</td>\n",
       "      <td>NaN</td>\n",
       "    </tr>\n",
       "    <tr>\n",
       "      <th>4</th>\n",
       "      <td>NaN</td>\n",
       "      <td>NaN</td>\n",
       "      <td>NaN</td>\n",
       "      <td>NaN</td>\n",
       "      <td>NaN</td>\n",
       "      <td>NaN</td>\n",
       "      <td>NaN</td>\n",
       "      <td>NaN</td>\n",
       "      <td>NaN</td>\n",
       "      <td>NaN</td>\n",
       "      <td>...</td>\n",
       "      <td>NaN</td>\n",
       "      <td>NaN</td>\n",
       "      <td>NaN</td>\n",
       "      <td>NaN</td>\n",
       "      <td>NaN</td>\n",
       "      <td>NaN</td>\n",
       "      <td>NaN</td>\n",
       "      <td>NaN</td>\n",
       "      <td>NaN</td>\n",
       "      <td>NaN</td>\n",
       "    </tr>\n",
       "    <tr>\n",
       "      <th>5</th>\n",
       "      <td>4.0</td>\n",
       "      <td>3.0</td>\n",
       "      <td>NaN</td>\n",
       "      <td>NaN</td>\n",
       "      <td>NaN</td>\n",
       "      <td>NaN</td>\n",
       "      <td>NaN</td>\n",
       "      <td>NaN</td>\n",
       "      <td>NaN</td>\n",
       "      <td>NaN</td>\n",
       "      <td>...</td>\n",
       "      <td>NaN</td>\n",
       "      <td>NaN</td>\n",
       "      <td>NaN</td>\n",
       "      <td>NaN</td>\n",
       "      <td>NaN</td>\n",
       "      <td>NaN</td>\n",
       "      <td>NaN</td>\n",
       "      <td>NaN</td>\n",
       "      <td>NaN</td>\n",
       "      <td>NaN</td>\n",
       "    </tr>\n",
       "  </tbody>\n",
       "</table>\n",
       "<p>5 rows × 1682 columns</p>\n",
       "</div>"
      ],
      "text/plain": [
       "item_id  1     2     3     4     5     6     7     8     9     10    ...  \\\n",
       "user_id                                                              ...   \n",
       "1         5.0   3.0   4.0   3.0   3.0   5.0   4.0   1.0   5.0   3.0  ...   \n",
       "2         4.0   NaN   NaN   NaN   NaN   NaN   NaN   NaN   NaN   2.0  ...   \n",
       "3         NaN   NaN   NaN   NaN   NaN   NaN   NaN   NaN   NaN   NaN  ...   \n",
       "4         NaN   NaN   NaN   NaN   NaN   NaN   NaN   NaN   NaN   NaN  ...   \n",
       "5         4.0   3.0   NaN   NaN   NaN   NaN   NaN   NaN   NaN   NaN  ...   \n",
       "\n",
       "item_id  1673  1674  1675  1676  1677  1678  1679  1680  1681  1682  \n",
       "user_id                                                              \n",
       "1         NaN   NaN   NaN   NaN   NaN   NaN   NaN   NaN   NaN   NaN  \n",
       "2         NaN   NaN   NaN   NaN   NaN   NaN   NaN   NaN   NaN   NaN  \n",
       "3         NaN   NaN   NaN   NaN   NaN   NaN   NaN   NaN   NaN   NaN  \n",
       "4         NaN   NaN   NaN   NaN   NaN   NaN   NaN   NaN   NaN   NaN  \n",
       "5         NaN   NaN   NaN   NaN   NaN   NaN   NaN   NaN   NaN   NaN  \n",
       "\n",
       "[5 rows x 1682 columns]"
      ]
     },
     "execution_count": 3,
     "metadata": {},
     "output_type": "execute_result"
    }
   ],
   "source": [
    "ratings = df.pivot(index='user_id',columns='item_id',values='rating')\n",
    "ratings.head()"
   ]
  },
  {
   "cell_type": "markdown",
   "metadata": {},
   "source": [
    "#### Εδώ υλοποιούνται οι συναρτήσεις για την εύρεση της γειτονίας και για την εύρεση των ταινιών τις οποίες έχει ήδη αξιολογήσει ο χρήστης.\n",
    "Η user_rated_movies επιστρέφει τις θέσεις των ταινιών που έχει ήδη αξιολογήσει ο χρήστης και θα χρειαστεί στην συνάρτηση mutate() για την μετάλλαξη όπου ελέγχουμε αν το γονίδιο που επιλέχθηκε αντιστοιχεί σε ταινία που έχει ήδη αξιολογήσει ο χρήστης.\n",
    "\n",
    "Η find_neighborhood επιστρέφει ένα numpy array 10x1682 με τα 10 διανύσματα αξιολογήσεων(άτομα) που είναι πιο κοντά στον χρήστη σύμφωνα με την συσχέτιση Pearson και τα όσα αναφέρονται στην εκφώνηση... "
   ]
  },
  {
   "cell_type": "code",
   "execution_count": 4,
   "metadata": {},
   "outputs": [],
   "source": [
    "from random import randint\n",
    "import random\n",
    "from random import choice\n",
    "from scipy.stats import pearsonr\n",
    "import math\n",
    "\n",
    "def find_neighborhood(user_id):\n",
    "    pearson_metric = []\n",
    "    dict_metric = {} # to correlation tou user_id me ton kathe ena apo tous ipoloipous\n",
    "    for i in range(1,len(ratings)+1):\n",
    "        if i==user_id:\n",
    "            continue\n",
    "#         corr = (pearsonr(ratings.loc[user_id].fillna(0),ratings.loc[i].fillna(0))[0]-(-1))/2\n",
    "        corr = pearsonr(ratings.loc[user_id].fillna(0),ratings.loc[i].fillna(0))[0]\n",
    "        pearson_metric.append(corr)\n",
    "        dict_metric[i] = corr\n",
    "    pearson_metric.sort(reverse=True)\n",
    "    user_indexes = [] # ta loc sto ratings\n",
    "    for user,pearson in dict_metric.items():\n",
    "        for i in range(len(pearson_metric[:10])):\n",
    "            if pearson==pearson_metric[i]:\n",
    "                user_indexes.append(user) # ta id twn users me tin megaliteri sisxetisi me ton user_id\n",
    "#     print(user_indexes)\n",
    "    # kai me auta ta user_indexes ftiaxnw to dataframe\n",
    "    data = pd.DataFrame(ratings,index=user_indexes)\n",
    "    data = np.array(data)\n",
    "    data = np.nan_to_num(data)\n",
    "    return data\n",
    "\n",
    "# epistrefei lista me tis theseis poy exei aksiologisei o user_id\n",
    "def user_rated_movies(user_id):\n",
    "    rated_movies = []\n",
    "    for i in range(len(ratings.loc[user_id])):\n",
    "        if not math.isnan(np.array(ratings.loc[user_id])[i]):\n",
    "            rated_movies.append(i)\n",
    "    return rated_movies"
   ]
  },
  {
   "cell_type": "code",
   "execution_count": 5,
   "metadata": {},
   "outputs": [
    {
     "name": "stdout",
     "output_type": "stream",
     "text": [
      "[0, 1, 2, 3, 4, 5, 6, 7, 8, 9, 10, 11, 12, 13, 14, 15, 16, 17, 18, 19, 20, 21, 22, 23, 24, 25, 26, 27, 28, 29, 30, 31, 32, 33, 34, 35, 36, 37, 38, 39, 40, 41, 42, 43, 44, 45, 46, 47, 48, 49, 50, 51, 52, 53, 54, 55, 56, 57, 58, 59, 60, 61, 62, 63, 64, 65, 66, 67, 68, 69, 70, 71, 72, 73, 74, 75, 76, 77, 78, 79, 80, 81, 82, 83, 84, 85, 86, 87, 88, 89, 90, 91, 92, 93, 94, 95, 96, 97, 98, 99, 100, 101, 102, 103, 104, 105, 106, 107, 108, 109, 110, 111, 112, 113, 114, 115, 116, 117, 118, 119, 120, 121, 122, 123, 124, 125, 126, 127, 128, 129, 130, 131, 132, 133, 134, 135, 136, 137, 138, 139, 140, 141, 142, 143, 144, 145, 146, 147, 148, 149, 150, 151, 152, 153, 154, 155, 156, 157, 158, 159, 160, 161, 162, 163, 164, 165, 166, 167, 168, 169, 170, 171, 172, 173, 174, 175, 176, 177, 178, 179, 180, 181, 182, 183, 184, 185, 186, 187, 188, 189, 190, 191, 192, 193, 194, 195, 196, 197, 198, 199, 200, 201, 202, 203, 204, 205, 206, 207, 208, 209, 210, 211, 212, 213, 214, 215, 216, 217, 218, 219, 220, 221, 222, 223, 224, 225, 226, 227, 228, 229, 230, 231, 232, 233, 234, 235, 236, 237, 238, 239, 240, 241, 242, 243, 244, 245, 246, 247, 248, 249, 250, 251, 252, 253, 254, 255, 256, 257, 258, 259, 260, 261, 262, 263, 264, 265, 266, 267, 268, 269, 270, 271]\n"
     ]
    }
   ],
   "source": [
    "print(user_rated_movies(1))\n",
    "# oi theseis twn tainiwn pou exei aksiologisei o user_1"
   ]
  },
  {
   "cell_type": "code",
   "execution_count": 6,
   "metadata": {},
   "outputs": [
    {
     "name": "stdout",
     "output_type": "stream",
     "text": [
      "7\n",
      "13\n",
      "181\n",
      "234\n",
      "276\n",
      "279\n",
      "303\n",
      "393\n",
      "405\n",
      "416\n",
      "429\n",
      "450\n",
      "537\n",
      "655\n",
      "846\n"
     ]
    }
   ],
   "source": [
    "# oi theseis me perisoteres apo 400 aksiologiseis\n",
    "res = ratings.count(axis='columns')\n",
    "# print(res)\n",
    "for i in range(1,len(ratings.count(axis='columns'))):\n",
    "    if res[i]>400:\n",
    "        print(i)"
   ]
  },
  {
   "cell_type": "code",
   "execution_count": 7,
   "metadata": {
    "scrolled": true
   },
   "outputs": [
    {
     "data": {
      "text/plain": [
       "array([[4., 3., 0., ..., 0., 0., 0.],\n",
       "       [3., 2., 1., ..., 0., 0., 0.],\n",
       "       [5., 4., 3., ..., 0., 0., 0.],\n",
       "       ...,\n",
       "       [4., 0., 0., ..., 0., 0., 0.],\n",
       "       [5., 4., 0., ..., 0., 0., 0.],\n",
       "       [4., 3., 3., ..., 0., 0., 3.]])"
      ]
     },
     "execution_count": 7,
     "metadata": {},
     "output_type": "execute_result"
    }
   ],
   "source": [
    "find_neighborhood(1)"
   ]
  },
  {
   "cell_type": "markdown",
   "metadata": {},
   "source": [
    "#### Η συνάρτηση create_individual(data) παίρνει σαν όρισμα την γειτονιά του χρήστη (το data) και δημιοιυργεί τον αρχικό πληθυσμο. Στον αρχικό πληθυσμό κάθε άτομο έχει στα γονίδια που αντιστοιχούν στις ταινίες που έχει αξιολογήσει ήδη ο χρήστης την βαθμολογία του χρήστη και στα υπόλοιπα γονίδια, την μέση βαθμολογία των χρηστών που ανήκουν στην γειτονιά του χρήστη αν τουλάχιστον ένας έχει αξιολογήσει την ταινία, αλλιώς μια τυχαία τιμή στο διάστημα [1,5]\n",
    "Επιλέγοντας διαφορετικό user_id εκτελουνται όλες οι λειτουργίες για το εκάστοτε χρήστη..."
   ]
  },
  {
   "cell_type": "code",
   "execution_count": 8,
   "metadata": {},
   "outputs": [],
   "source": [
    "user_id = 1 # epilegw user\n",
    "data = find_neighborhood(user_id)\n",
    "def create_individual(data):\n",
    "    individual = np.array(ratings.loc[user_id].fillna(0)) # ola ta nan tou epilegmenou user einai 0\n",
    "    user = np.array(ratings.loc[user_id])\n",
    "    for i in range(len(user)):\n",
    "        cluster_ratings = []\n",
    "        if math.isnan(user[i]):\n",
    "            for j in range(len(data)):\n",
    "                if data[j][i]!=0:\n",
    "                    cluster_ratings.append(data[j][i])\n",
    "            if len(cluster_ratings)>0:\n",
    "                individual[i] = sum(cluster_ratings)/len(cluster_ratings) # o mesos oros twn aksiologisewn sto cluster xristwn\n",
    "            else:\n",
    "                individual[i] = random.randint(1,5) # alliws tixai timi 1 ews 5\n",
    "    return individual\n",
    "\n",
    "    \n",
    "def crossover(parent_1,parent_2):\n",
    "    crossover_index = random.randrange(1,len(parent_1)) # thesi tis diastaurwsis\n",
    "    child_1a = parent_1[:crossover_index]\n",
    "    child_1b = parent_2[crossover_index:]\n",
    "    child_1 = list(child_1a) + list(child_1b)\n",
    "    \n",
    "    child_2a = parent_2[:crossover_index]\n",
    "    child_2b = parent_1[crossover_index:]\n",
    "    child_2  = list(child_2a) + list(child_2b)\n",
    "    return np.array(child_1), np.array(child_2)\n",
    "\n",
    "\n",
    "def fitness(individual,data):\n",
    "    fitness = 0\n",
    "    for i in range(len(data)):\n",
    "#         corr = (pearsonr(individual,data[i])[0]-(-1))/2 #-> to kanonikopoiei sto [0,1]\n",
    "        corr = pearsonr(individual,data[i])[0]\n",
    "        fitness += corr\n",
    "    return fitness/len(data)\n",
    "\n",
    "\n",
    "def mutate(individual):\n",
    "    mutate_index = random.randrange(1,len(individual))\n",
    "    # an exei epilegei thesi pou o xristis eixe dwsei aksiologisi min kaneis tpt\n",
    "    if mutate_index in user_rated_movies(user_id):\n",
    "        None\n",
    "    else:\n",
    "        individual[mutate_index] = choice([k for k in range(1,6) if k not in [individual[mutate_index]]])\n",
    "    # alliws dinw mia tixai timi diaforetiki apo autin pou iparxei idi\n",
    "            \n"
   ]
  },
  {
   "cell_type": "markdown",
   "metadata": {},
   "source": [
    "#### Καθορίζουμε τις εκάστοτε παραμέτρους με την κλήση pyeasga.GeneticAlgorithm()..."
   ]
  },
  {
   "cell_type": "markdown",
   "metadata": {},
   "source": [
    "###### pop_size = 20, Pc=0.6 και Pm = 0.00"
   ]
  },
  {
   "cell_type": "code",
   "execution_count": 9,
   "metadata": {},
   "outputs": [],
   "source": [
    "from pyeasyga import pyeasyga\n",
    "ga = pyeasyga.GeneticAlgorithm(data,\n",
    "                              population_size=20,\n",
    "                              generations=100,\n",
    "                              crossover_probability=0.6,\n",
    "                              mutation_probability=0.0,\n",
    "                              elitism=False,\n",
    "                              maximise_fitness=True)"
   ]
  },
  {
   "cell_type": "code",
   "execution_count": 106,
   "metadata": {},
   "outputs": [],
   "source": [
    "ga.create_individual = create_individual\n",
    "ga.crossover_function = crossover\n",
    "ga.fitness_function = fitness\n",
    "# ga.run()\n"
   ]
  },
  {
   "cell_type": "code",
   "execution_count": 74,
   "metadata": {},
   "outputs": [
    {
     "name": "stdout",
     "output_type": "stream",
     "text": [
      "Mean result = 0.22147871098919253\n"
     ]
    },
    {
     "data": {
      "text/plain": [
       "[<matplotlib.lines.Line2D at 0x130f6145668>]"
      ]
     },
     "execution_count": 74,
     "metadata": {},
     "output_type": "execute_result"
    },
    {
     "data": {
      "image/png": "[encoded data removed]",
      "text/plain": [
       "<Figure size 432x288 with 1 Axes>"
      ]
     },
     "metadata": {
      "needs_background": "light"
     },
     "output_type": "display_data"
    }
   ],
   "source": [
    "import matplotlib.pyplot as plt\n",
    "results = []\n",
    " \n",
    "for _ in range(10):\n",
    "    ga.run()\n",
    "    results.append(ga.best_individual()[0])\n",
    "print(f'Mean result = {sum(results)/len(results)}')\n",
    "plt.plot(results)"
   ]
  },
  {
   "cell_type": "code",
   "execution_count": 75,
   "metadata": {},
   "outputs": [
    {
     "data": {
      "text/plain": [
       "(0.21290119938847435, array([5., 3., 4., ..., 2., 5., 3.]))"
      ]
     },
     "execution_count": 75,
     "metadata": {},
     "output_type": "execute_result"
    }
   ],
   "source": [
    "# endeiktika to kalitero atomo apo tin teleutaia ektelesi kai i sisxetisi tou me tin geitonia\n",
    "ga.best_individual()"
   ]
  },
  {
   "cell_type": "markdown",
   "metadata": {},
   "source": [
    "###### pop_size = 20, Pc=0.6 και Pm = 0.01"
   ]
  },
  {
   "cell_type": "code",
   "execution_count": 71,
   "metadata": {},
   "outputs": [
    {
     "name": "stdout",
     "output_type": "stream",
     "text": [
      "Mean result = 0.21724532074673514\n"
     ]
    },
    {
     "data": {
      "text/plain": [
       "[<matplotlib.lines.Line2D at 0x130f60e4f60>]"
      ]
     },
     "execution_count": 71,
     "metadata": {},
     "output_type": "execute_result"
    },
    {
     "data": {
      "image/png": "[encoded data removed]",
      "text/plain": [
       "<Figure size 432x288 with 1 Axes>"
      ]
     },
     "metadata": {
      "needs_background": "light"
     },
     "output_type": "display_data"
    }
   ],
   "source": [
    "# 20 - 0.6-0.01 kai 100 generations\n",
    "ga = pyeasyga.GeneticAlgorithm(data,\n",
    "                              population_size=20,\n",
    "                              generations=100,\n",
    "                              crossover_probability=0.6,\n",
    "                              mutation_probability=0.01,\n",
    "                              elitism=False,\n",
    "                              maximise_fitness=True)\n",
    "ga.create_individual = create_individual\n",
    "ga.crossover_function = crossover\n",
    "ga.fitness_function = fitness\n",
    "results = []\n",
    "for _ in range(10):\n",
    "    ga.run()\n",
    "    results.append(ga.best_individual()[0])\n",
    "print(f'Mean result = {sum(results)/len(results)}')\n",
    "plt.plot(results)"
   ]
  },
  {
   "cell_type": "markdown",
   "metadata": {},
   "source": [
    "###### pop_size = 20, Pc=0.6 και Pm = 0.1"
   ]
  },
  {
   "cell_type": "code",
   "execution_count": 70,
   "metadata": {},
   "outputs": [
    {
     "name": "stdout",
     "output_type": "stream",
     "text": [
      "Mean result = 0.23500970369389199\n"
     ]
    },
    {
     "data": {
      "text/plain": [
       "[<matplotlib.lines.Line2D at 0x130f6073a90>]"
      ]
     },
     "execution_count": 70,
     "metadata": {},
     "output_type": "execute_result"
    },
    {
     "data": {
      "image/png": "[encoded data removed]",
      "text/plain": [
       "<Figure size 432x288 with 1 Axes>"
      ]
     },
     "metadata": {
      "needs_background": "light"
     },
     "output_type": "display_data"
    }
   ],
   "source": [
    "# 20-0.6-0.1 kai 100 generations\n",
    "ga = pyeasyga.GeneticAlgorithm(data,\n",
    "                              population_size=20,\n",
    "                              generations=100,\n",
    "                              crossover_probability=0.6,\n",
    "                              mutation_probability=0.1,\n",
    "                              elitism=False,\n",
    "                              maximise_fitness=True)\n",
    "ga.create_individual = create_individual\n",
    "ga.crossover_function = crossover\n",
    "ga.fitness_function = fitness\n",
    "results = []\n",
    "for _ in range(10):\n",
    "    ga.run()\n",
    "    results.append(ga.best_individual()[0])\n",
    "print(f'Mean result = {sum(results)/len(results)}')\n",
    "plt.plot(results)"
   ]
  },
  {
   "cell_type": "markdown",
   "metadata": {},
   "source": [
    "#### Εδω κάνουμε και μια δοκιμαστική εκτέλεση με χρήση ελιτισμού για την περίπτωση όπου έχω Pc = 0.6 και Pm=0.01"
   ]
  },
  {
   "cell_type": "code",
   "execution_count": 15,
   "metadata": {},
   "outputs": [
    {
     "name": "stdout",
     "output_type": "stream",
     "text": [
      "Mean result = 0.22099447971240024\n"
     ]
    },
    {
     "data": {
      "text/plain": [
       "[<matplotlib.lines.Line2D at 0x2431b874a58>]"
      ]
     },
     "execution_count": 15,
     "metadata": {},
     "output_type": "execute_result"
    },
    {
     "data": {
      "image/png": "[encoded data removed]",
      "text/plain": [
       "<Figure size 432x288 with 1 Axes>"
      ]
     },
     "metadata": {
      "needs_background": "light"
     },
     "output_type": "display_data"
    }
   ],
   "source": [
    "import matplotlib.pyplot as plt\n",
    "# mia dokimi kai me elitismo\n",
    "ga = pyeasyga.GeneticAlgorithm(data,\n",
    "                              population_size=20,\n",
    "                              generations=100,\n",
    "                              crossover_probability=0.6,\n",
    "                              mutation_probability=0.01,\n",
    "                              elitism=True,\n",
    "                              maximise_fitness=True)\n",
    "ga.create_individual = create_individual\n",
    "ga.crossover_function = crossover\n",
    "ga.fitness_function = fitness\n",
    "results = []\n",
    "for _ in range(10):\n",
    "    ga.run()\n",
    "    results.append(ga.best_individual()[0])\n",
    "print(f'Mean result = {sum(results)/len(results)}')\n",
    "plt.plot(results)"
   ]
  },
  {
   "cell_type": "markdown",
   "metadata": {},
   "source": [
    "###### pop_size = 20, Pc=0.9 και Pm = 0.01"
   ]
  },
  {
   "cell_type": "code",
   "execution_count": 77,
   "metadata": {},
   "outputs": [
    {
     "name": "stdout",
     "output_type": "stream",
     "text": [
      "Mean result = 0.22528024467444907\n"
     ]
    },
    {
     "data": {
      "text/plain": [
       "[<matplotlib.lines.Line2D at 0x130f62109b0>]"
      ]
     },
     "execution_count": 77,
     "metadata": {},
     "output_type": "execute_result"
    },
    {
     "data": {
      "image/png": "[encoded data removed]",
      "text/plain": [
       "<Figure size 432x288 with 1 Axes>"
      ]
     },
     "metadata": {
      "needs_background": "light"
     },
     "output_type": "display_data"
    }
   ],
   "source": [
    "# 20-0.9-0.01 kai genrations...\n",
    "ga = pyeasyga.GeneticAlgorithm(data,\n",
    "                              population_size=20,\n",
    "                              generations=100,\n",
    "                              crossover_probability=0.9,\n",
    "                              mutation_probability=0.01,\n",
    "                              elitism=False,\n",
    "                              maximise_fitness=True)\n",
    "ga.create_individual = create_individual\n",
    "ga.crossover_function = crossover\n",
    "ga.fitness_function = fitness\n",
    "results = []\n",
    "for _ in range(10):\n",
    "    ga.run()\n",
    "    results.append(ga.best_individual()[0])\n",
    "print(f'Mean result = {sum(results)/len(results)}')\n",
    "plt.plot(results)"
   ]
  },
  {
   "cell_type": "markdown",
   "metadata": {},
   "source": [
    "###### pop_size = 20, Pc=0.1 και Pm = 0.01"
   ]
  },
  {
   "cell_type": "code",
   "execution_count": 78,
   "metadata": {},
   "outputs": [
    {
     "name": "stdout",
     "output_type": "stream",
     "text": [
      "Mean result = 0.20841229218280682\n"
     ]
    },
    {
     "data": {
      "text/plain": [
       "[<matplotlib.lines.Line2D at 0x130f627a080>]"
      ]
     },
     "execution_count": 78,
     "metadata": {},
     "output_type": "execute_result"
    },
    {
     "data": {
      "image/png": "[encoded data removed]",
      "text/plain": [
       "<Figure size 432x288 with 1 Axes>"
      ]
     },
     "metadata": {
      "needs_background": "light"
     },
     "output_type": "display_data"
    }
   ],
   "source": [
    "# 20-0.1-0.01\n",
    "ga = pyeasyga.GeneticAlgorithm(data,\n",
    "                              population_size=20,\n",
    "                              generations=100,\n",
    "                              crossover_probability=0.1,\n",
    "                              mutation_probability=0.01,\n",
    "                              elitism=False,\n",
    "                              maximise_fitness=True)\n",
    "ga.create_individual = create_individual\n",
    "ga.crossover_function = crossover\n",
    "ga.fitness_function = fitness\n",
    "results = []\n",
    "for _ in range(10):\n",
    "    ga.run()\n",
    "    results.append(ga.best_individual()[0])\n",
    "print(f'Mean result = {sum(results)/len(results)}')\n",
    "plt.plot(results)"
   ]
  },
  {
   "cell_type": "markdown",
   "metadata": {},
   "source": [
    "###### pop_size = 200, Pc=0.6 και Pm = 0.00"
   ]
  },
  {
   "cell_type": "code",
   "execution_count": 79,
   "metadata": {},
   "outputs": [
    {
     "name": "stdout",
     "output_type": "stream",
     "text": [
      "Mean result = 0.24449265359437108\n"
     ]
    },
    {
     "data": {
      "text/plain": [
       "[<matplotlib.lines.Line2D at 0x130f62e2400>]"
      ]
     },
     "execution_count": 79,
     "metadata": {},
     "output_type": "execute_result"
    },
    {
     "data": {
      "image/png": "[encoded data removed]",
      "text/plain": [
       "<Figure size 432x288 with 1 Axes>"
      ]
     },
     "metadata": {
      "needs_background": "light"
     },
     "output_type": "display_data"
    }
   ],
   "source": [
    "# 200-0.6-00\n",
    "ga = pyeasyga.GeneticAlgorithm(data,\n",
    "                              population_size=200,\n",
    "                              generations=100,\n",
    "                              crossover_probability=0.6,\n",
    "                              mutation_probability=0.00,\n",
    "                              elitism=False,\n",
    "                              maximise_fitness=True)\n",
    "ga.create_individual = create_individual\n",
    "ga.crossover_function = crossover\n",
    "ga.fitness_function = fitness\n",
    "results = []\n",
    "for _ in range(10):\n",
    "    ga.run()\n",
    "    results.append(ga.best_individual()[0])\n",
    "print(f'Mean result = {sum(results)/len(results)}')\n",
    "plt.plot(results)"
   ]
  },
  {
   "cell_type": "markdown",
   "metadata": {},
   "source": [
    "###### pop_size = 200, Pc=0.6 και Pm = 0.01"
   ]
  },
  {
   "cell_type": "code",
   "execution_count": 91,
   "metadata": {},
   "outputs": [
    {
     "name": "stdout",
     "output_type": "stream",
     "text": [
      "Mean result = 0.2582497765213844\n"
     ]
    },
    {
     "data": {
      "text/plain": [
       "[<matplotlib.lines.Line2D at 0x130f7617390>]"
      ]
     },
     "execution_count": 91,
     "metadata": {},
     "output_type": "execute_result"
    },
    {
     "data": {
      "image/png": "[encoded data removed]",
      "text/plain": [
       "<Figure size 432x288 with 1 Axes>"
      ]
     },
     "metadata": {
      "needs_background": "light"
     },
     "output_type": "display_data"
    }
   ],
   "source": [
    "# 200-0.6-0.01\n",
    "ga = pyeasyga.GeneticAlgorithm(data,\n",
    "                              population_size=200,\n",
    "                              generations=100,\n",
    "                              crossover_probability=0.6,\n",
    "                              mutation_probability=0.01,\n",
    "                              elitism=False,\n",
    "                              maximise_fitness=True)\n",
    "ga.create_individual = create_individual\n",
    "ga.crossover_function = crossover\n",
    "ga.fitness_function = fitness\n",
    "results = []\n",
    "for _ in range(10):\n",
    "    ga.run()\n",
    "    results.append(ga.best_individual()[0])\n",
    "print(f'Mean result = {sum(results)/len(results)}')\n",
    "plt.plot(results)"
   ]
  },
  {
   "cell_type": "markdown",
   "metadata": {},
   "source": [
    "###### Εδώ έχω δοκιμάσει έναν συνδυασμό παραμέτρων που δεν δίνεται στον σχετικό πίνακα άλλα έδωσε τα καλύτερα γενικά αποτελέσματα....\n",
    "###### pop_size = 200, Pc=0.6 και Pm = 0.1"
   ]
  },
  {
   "cell_type": "code",
   "execution_count": 208,
   "metadata": {},
   "outputs": [
    {
     "name": "stdout",
     "output_type": "stream",
     "text": [
      "Mean result = 0.30200197520263466\n"
     ]
    },
    {
     "data": {
      "text/plain": [
       "[<matplotlib.lines.Line2D at 0x23c869d6a90>]"
      ]
     },
     "execution_count": 208,
     "metadata": {},
     "output_type": "execute_result"
    },
    {
     "data": {
      "image/png": "[encoded data removed]",
      "text/plain": [
       "<Figure size 432x288 with 1 Axes>"
      ]
     },
     "metadata": {
      "needs_background": "light"
     },
     "output_type": "display_data"
    }
   ],
   "source": [
    "# 200-0.6-0.1\n",
    "# DEN TO EXEI STON PINAKA\n",
    "ga = pyeasyga.GeneticAlgorithm(data,\n",
    "                              population_size=200,\n",
    "                              generations=100,\n",
    "                              crossover_probability=0.6,\n",
    "                              mutation_probability=0.1,\n",
    "                              elitism=False,\n",
    "                              maximise_fitness=True)\n",
    "ga.create_individual = create_individual\n",
    "ga.crossover_function = crossover\n",
    "ga.fitness_function = fitness\n",
    "results = []\n",
    "for _ in range(10):\n",
    "    ga.run()\n",
    "    results.append(ga.best_individual()[0])\n",
    "print(f'Mean result = {sum(results)/len(results)}')\n",
    "plt.plot(results)"
   ]
  },
  {
   "cell_type": "markdown",
   "metadata": {},
   "source": [
    "###### pop_size = 200, Pc=0.1 και Pm = 0.01"
   ]
  },
  {
   "cell_type": "code",
   "execution_count": 81,
   "metadata": {},
   "outputs": [
    {
     "name": "stdout",
     "output_type": "stream",
     "text": [
      "Mean result = 0.24014625781349444\n"
     ]
    },
    {
     "data": {
      "text/plain": [
       "[<matplotlib.lines.Line2D at 0x130f7377be0>]"
      ]
     },
     "execution_count": 81,
     "metadata": {},
     "output_type": "execute_result"
    },
    {
     "data": {
      "image/png": "[encoded data removed]",
      "text/plain": [
       "<Figure size 432x288 with 1 Axes>"
      ]
     },
     "metadata": {
      "needs_background": "light"
     },
     "output_type": "display_data"
    }
   ],
   "source": [
    "# 200-0.1-0.01\n",
    "ga = pyeasyga.GeneticAlgorithm(data,\n",
    "                              population_size=200,\n",
    "                              generations=100,\n",
    "                              crossover_probability=0.1,\n",
    "                              mutation_probability=0.01,\n",
    "                              elitism=False,\n",
    "                              maximise_fitness=True)\n",
    "ga.create_individual = create_individual\n",
    "ga.crossover_function = crossover\n",
    "ga.fitness_function = fitness\n",
    "results = []\n",
    "for _ in range(10):\n",
    "    ga.run()\n",
    "    results.append(ga.best_individual()[0])\n",
    "print(f'Mean result = {sum(results)/len(results)}')\n",
    "plt.plot(results)"
   ]
  },
  {
   "cell_type": "markdown",
   "metadata": {},
   "source": [
    "###### pop_size = 200, Pc=0.9 και Pm = 0.01"
   ]
  },
  {
   "cell_type": "code",
   "execution_count": 89,
   "metadata": {},
   "outputs": [
    {
     "name": "stdout",
     "output_type": "stream",
     "text": [
      "Mean result = 0.26642139764056394\n"
     ]
    },
    {
     "data": {
      "text/plain": [
       "[<matplotlib.lines.Line2D at 0x130f7544630>]"
      ]
     },
     "execution_count": 89,
     "metadata": {},
     "output_type": "execute_result"
    },
    {
     "data": {
      "image/png": "[encoded data removed]",
      "text/plain": [
       "<Figure size 432x288 with 1 Axes>"
      ]
     },
     "metadata": {
      "needs_background": "light"
     },
     "output_type": "display_data"
    }
   ],
   "source": [
    "# 200-0.9-0.01\n",
    "ga = pyeasyga.GeneticAlgorithm(data,\n",
    "                              population_size=200,\n",
    "                              generations=100,\n",
    "                              crossover_probability=0.9,\n",
    "                              mutation_probability=0.01,\n",
    "                              elitism=False,\n",
    "                              maximise_fitness=True)\n",
    "ga.create_individual = create_individual\n",
    "ga.crossover_function = crossover\n",
    "ga.fitness_function = fitness\n",
    "results = []\n",
    "for _ in range(10):\n",
    "    ga.run()\n",
    "    results.append(ga.best_individual()[0])\n",
    "print(f'Mean result = {sum(results)/len(results)}')\n",
    "plt.plot(results)"
   ]
  },
  {
   "cell_type": "markdown",
   "metadata": {},
   "source": [
    "#### Αφαιρώ τις 10 πρώτες αξιολογήσεις του user_1 απο το dataset για να δώ RMSE και MAE για τις 10 αξιολογήσεις που θα προβλέψει ο γενετικός αλγόριθμος"
   ]
  },
  {
   "cell_type": "code",
   "execution_count": 92,
   "metadata": {},
   "outputs": [
    {
     "name": "stdout",
     "output_type": "stream",
     "text": [
      "item_id\n",
      "1     5.0\n",
      "2     3.0\n",
      "3     4.0\n",
      "4     3.0\n",
      "5     3.0\n",
      "6     5.0\n",
      "7     4.0\n",
      "8     1.0\n",
      "9     5.0\n",
      "10    3.0\n",
      "Name: 1, dtype: float64\n"
     ]
    },
    {
     "data": {
      "text/html": [
       "<div>\n",
       "<style scoped>\n",
       "    .dataframe tbody tr th:only-of-type {\n",
       "        vertical-align: middle;\n",
       "    }\n",
       "\n",
       "    .dataframe tbody tr th {\n",
       "        vertical-align: top;\n",
       "    }\n",
       "\n",
       "    .dataframe thead th {\n",
       "        text-align: right;\n",
       "    }\n",
       "</style>\n",
       "<table border=\"1\" class=\"dataframe\">\n",
       "  <thead>\n",
       "    <tr style=\"text-align: right;\">\n",
       "      <th>item_id</th>\n",
       "      <th>1</th>\n",
       "      <th>2</th>\n",
       "      <th>3</th>\n",
       "      <th>4</th>\n",
       "      <th>5</th>\n",
       "      <th>6</th>\n",
       "      <th>7</th>\n",
       "      <th>8</th>\n",
       "      <th>9</th>\n",
       "      <th>10</th>\n",
       "      <th>...</th>\n",
       "      <th>1673</th>\n",
       "      <th>1674</th>\n",
       "      <th>1675</th>\n",
       "      <th>1676</th>\n",
       "      <th>1677</th>\n",
       "      <th>1678</th>\n",
       "      <th>1679</th>\n",
       "      <th>1680</th>\n",
       "      <th>1681</th>\n",
       "      <th>1682</th>\n",
       "    </tr>\n",
       "    <tr>\n",
       "      <th>user_id</th>\n",
       "      <th></th>\n",
       "      <th></th>\n",
       "      <th></th>\n",
       "      <th></th>\n",
       "      <th></th>\n",
       "      <th></th>\n",
       "      <th></th>\n",
       "      <th></th>\n",
       "      <th></th>\n",
       "      <th></th>\n",
       "      <th></th>\n",
       "      <th></th>\n",
       "      <th></th>\n",
       "      <th></th>\n",
       "      <th></th>\n",
       "      <th></th>\n",
       "      <th></th>\n",
       "      <th></th>\n",
       "      <th></th>\n",
       "      <th></th>\n",
       "      <th></th>\n",
       "    </tr>\n",
       "  </thead>\n",
       "  <tbody>\n",
       "    <tr>\n",
       "      <th>1</th>\n",
       "      <td>NaN</td>\n",
       "      <td>NaN</td>\n",
       "      <td>NaN</td>\n",
       "      <td>NaN</td>\n",
       "      <td>NaN</td>\n",
       "      <td>NaN</td>\n",
       "      <td>NaN</td>\n",
       "      <td>NaN</td>\n",
       "      <td>NaN</td>\n",
       "      <td>NaN</td>\n",
       "      <td>...</td>\n",
       "      <td>NaN</td>\n",
       "      <td>NaN</td>\n",
       "      <td>NaN</td>\n",
       "      <td>NaN</td>\n",
       "      <td>NaN</td>\n",
       "      <td>NaN</td>\n",
       "      <td>NaN</td>\n",
       "      <td>NaN</td>\n",
       "      <td>NaN</td>\n",
       "      <td>NaN</td>\n",
       "    </tr>\n",
       "    <tr>\n",
       "      <th>2</th>\n",
       "      <td>4.0</td>\n",
       "      <td>NaN</td>\n",
       "      <td>NaN</td>\n",
       "      <td>NaN</td>\n",
       "      <td>NaN</td>\n",
       "      <td>NaN</td>\n",
       "      <td>NaN</td>\n",
       "      <td>NaN</td>\n",
       "      <td>NaN</td>\n",
       "      <td>2.0</td>\n",
       "      <td>...</td>\n",
       "      <td>NaN</td>\n",
       "      <td>NaN</td>\n",
       "      <td>NaN</td>\n",
       "      <td>NaN</td>\n",
       "      <td>NaN</td>\n",
       "      <td>NaN</td>\n",
       "      <td>NaN</td>\n",
       "      <td>NaN</td>\n",
       "      <td>NaN</td>\n",
       "      <td>NaN</td>\n",
       "    </tr>\n",
       "    <tr>\n",
       "      <th>3</th>\n",
       "      <td>NaN</td>\n",
       "      <td>NaN</td>\n",
       "      <td>NaN</td>\n",
       "      <td>NaN</td>\n",
       "      <td>NaN</td>\n",
       "      <td>NaN</td>\n",
       "      <td>NaN</td>\n",
       "      <td>NaN</td>\n",
       "      <td>NaN</td>\n",
       "      <td>NaN</td>\n",
       "      <td>...</td>\n",
       "      <td>NaN</td>\n",
       "      <td>NaN</td>\n",
       "      <td>NaN</td>\n",
       "      <td>NaN</td>\n",
       "      <td>NaN</td>\n",
       "      <td>NaN</td>\n",
       "      <td>NaN</td>\n",
       "      <td>NaN</td>\n",
       "      <td>NaN</td>\n",
       "      <td>NaN</td>\n",
       "    </tr>\n",
       "    <tr>\n",
       "      <th>4</th>\n",
       "      <td>NaN</td>\n",
       "      <td>NaN</td>\n",
       "      <td>NaN</td>\n",
       "      <td>NaN</td>\n",
       "      <td>NaN</td>\n",
       "      <td>NaN</td>\n",
       "      <td>NaN</td>\n",
       "      <td>NaN</td>\n",
       "      <td>NaN</td>\n",
       "      <td>NaN</td>\n",
       "      <td>...</td>\n",
       "      <td>NaN</td>\n",
       "      <td>NaN</td>\n",
       "      <td>NaN</td>\n",
       "      <td>NaN</td>\n",
       "      <td>NaN</td>\n",
       "      <td>NaN</td>\n",
       "      <td>NaN</td>\n",
       "      <td>NaN</td>\n",
       "      <td>NaN</td>\n",
       "      <td>NaN</td>\n",
       "    </tr>\n",
       "    <tr>\n",
       "      <th>5</th>\n",
       "      <td>4.0</td>\n",
       "      <td>3.0</td>\n",
       "      <td>NaN</td>\n",
       "      <td>NaN</td>\n",
       "      <td>NaN</td>\n",
       "      <td>NaN</td>\n",
       "      <td>NaN</td>\n",
       "      <td>NaN</td>\n",
       "      <td>NaN</td>\n",
       "      <td>NaN</td>\n",
       "      <td>...</td>\n",
       "      <td>NaN</td>\n",
       "      <td>NaN</td>\n",
       "      <td>NaN</td>\n",
       "      <td>NaN</td>\n",
       "      <td>NaN</td>\n",
       "      <td>NaN</td>\n",
       "      <td>NaN</td>\n",
       "      <td>NaN</td>\n",
       "      <td>NaN</td>\n",
       "      <td>NaN</td>\n",
       "    </tr>\n",
       "  </tbody>\n",
       "</table>\n",
       "<p>5 rows × 1682 columns</p>\n",
       "</div>"
      ],
      "text/plain": [
       "item_id  1     2     3     4     5     6     7     8     9     10    ...  \\\n",
       "user_id                                                              ...   \n",
       "1         NaN   NaN   NaN   NaN   NaN   NaN   NaN   NaN   NaN   NaN  ...   \n",
       "2         4.0   NaN   NaN   NaN   NaN   NaN   NaN   NaN   NaN   2.0  ...   \n",
       "3         NaN   NaN   NaN   NaN   NaN   NaN   NaN   NaN   NaN   NaN  ...   \n",
       "4         NaN   NaN   NaN   NaN   NaN   NaN   NaN   NaN   NaN   NaN  ...   \n",
       "5         4.0   3.0   NaN   NaN   NaN   NaN   NaN   NaN   NaN   NaN  ...   \n",
       "\n",
       "item_id  1673  1674  1675  1676  1677  1678  1679  1680  1681  1682  \n",
       "user_id                                                              \n",
       "1         NaN   NaN   NaN   NaN   NaN   NaN   NaN   NaN   NaN   NaN  \n",
       "2         NaN   NaN   NaN   NaN   NaN   NaN   NaN   NaN   NaN   NaN  \n",
       "3         NaN   NaN   NaN   NaN   NaN   NaN   NaN   NaN   NaN   NaN  \n",
       "4         NaN   NaN   NaN   NaN   NaN   NaN   NaN   NaN   NaN   NaN  \n",
       "5         NaN   NaN   NaN   NaN   NaN   NaN   NaN   NaN   NaN   NaN  \n",
       "\n",
       "[5 rows x 1682 columns]"
      ]
     },
     "execution_count": 92,
     "metadata": {},
     "output_type": "execute_result"
    }
   ],
   "source": [
    "# TESTING\n",
    "testing_ratings = ratings.iloc[0,0:10].copy() # kai xrisimopoiw auto meta gia ta rmse kai mae\n",
    "ratings.iloc[0,0:10] = np.nan\n",
    "print(testing_ratings)\n",
    "ratings.head()"
   ]
  },
  {
   "cell_type": "code",
   "execution_count": 93,
   "metadata": {},
   "outputs": [],
   "source": [
    "user_id = 1\n",
    "data = find_neighborhood(user_id)"
   ]
  },
  {
   "cell_type": "code",
   "execution_count": 94,
   "metadata": {},
   "outputs": [
    {
     "data": {
      "text/plain": [
       "array([[4., 3., 0., ..., 0., 0., 0.],\n",
       "       [3., 2., 1., ..., 0., 0., 0.],\n",
       "       [5., 4., 3., ..., 0., 0., 0.],\n",
       "       ...,\n",
       "       [4., 0., 0., ..., 0., 0., 0.],\n",
       "       [5., 4., 0., ..., 0., 0., 0.],\n",
       "       [4., 3., 3., ..., 0., 0., 3.]])"
      ]
     },
     "execution_count": 94,
     "metadata": {},
     "output_type": "execute_result"
    }
   ],
   "source": [
    "data"
   ]
  },
  {
   "cell_type": "markdown",
   "metadata": {},
   "source": [
    "###### Εκτελώ με τις καλύτερες παραμέτρους , δλδ pop_size = 200, Pc=0.9 και Pm = 0.01"
   ]
  },
  {
   "cell_type": "code",
   "execution_count": 95,
   "metadata": {},
   "outputs": [],
   "source": [
    "# 200-0.9-0.01 - htan oi kaliteres parametroi\n",
    "ga = pyeasyga.GeneticAlgorithm(data,\n",
    "                              population_size=200,\n",
    "                              generations=100,\n",
    "                              crossover_probability=0.9,\n",
    "                              mutation_probability=0.01,\n",
    "                              elitism=False,\n",
    "                              maximise_fitness=True)\n",
    "ga.create_individual = create_individual\n",
    "ga.crossover_function = crossover\n",
    "ga.fitness_function = fitness\n",
    "\n",
    "ga.run()"
   ]
  },
  {
   "cell_type": "markdown",
   "metadata": {},
   "source": [
    "###### Και βλέπουμε RMSE και MAE..."
   ]
  },
  {
   "cell_type": "code",
   "execution_count": 96,
   "metadata": {},
   "outputs": [
    {
     "name": "stdout",
     "output_type": "stream",
     "text": [
      "[5. 3. 4. 3. 3. 5. 4. 1. 5. 3.]\n",
      "[4.1        3.14285714 2.33333333 4.11111111 3.25       1.\n",
      " 4.2        4.33333333 4.6        4.33333333]\n",
      "RMSE gia tis 10 prwtes aksiologiseis tou user_1: 1.8437500571163798\n",
      "MAE gia tis 10 prwtes aksiologiseis tou user_1: 1.3337301587301589\n"
     ]
    }
   ],
   "source": [
    "from math import sqrt\n",
    "from sklearn.metrics import mean_absolute_error\n",
    "\n",
    "\n",
    "def rmse(predictions, targets):\n",
    "    return np.sqrt(((predictions - targets) ** 2).mean())\n",
    "\n",
    "print(np.array(testing_ratings))\n",
    "print(ga.best_individual()[1][:10])\n",
    "print(f'RMSE gia tis 10 prwtes aksiologiseis tou user_1: {rmse(testing_ratings, ga.best_individual()[1][:10])}')\n",
    "print(f'MAE gia tis 10 prwtes aksiologiseis tou user_1: {mean_absolute_error(testing_ratings,ga.best_individual()[1][:10])}')"
   ]
  },
  {
   "cell_type": "code",
   "execution_count": 98,
   "metadata": {},
   "outputs": [],
   "source": [
    "# epeidi eixa afairesei idi prin tis 10 prwtes tou user 1 ksanaorizw to dataset\n",
    "ratings = df.pivot(index='user_id',columns='item_id',values='rating')"
   ]
  },
  {
   "cell_type": "markdown",
   "metadata": {},
   "source": [
    "###### Για τους πρώτους 50 users στο dataset κρατάω ένα dict για τον καθένα με τις 10 αξιολογήσεις του και ένα dict με τις θέσεις που βρέθηκαν αυτές οι 10 αξιολογήσεις ώστε να ξέρουμε με ποια γονίδια της λύσης να συκγρίνουμε τις αξιολογήσεις"
   ]
  },
  {
   "cell_type": "code",
   "execution_count": 100,
   "metadata": {},
   "outputs": [
    {
     "name": "stdout",
     "output_type": "stream",
     "text": [
      "[1, 2, 3, 4, 5, 6, 7, 8, 9, 10]\n"
     ]
    }
   ],
   "source": [
    "user_ratings = {}\n",
    "user_ratings_pos = {} # gia kathe user tis theseis twn 10 prwtwn ratings\n",
    "for i in range(1,51): # 50 prwtoi users\n",
    "    first_ratings = [] # oi 10 prwtes aksiologiseis kathe user\n",
    "    for j in range(1,len(ratings.loc[i])):\n",
    "        if len(first_ratings)==10:\n",
    "            break\n",
    "        if not math.isnan(ratings.loc[i][j]):\n",
    "            first_ratings.append(ratings.loc[i][j])\n",
    "    user_ratings_pos[i] = [x+1 for x in user_rated_movies(i)[:10]]  # oi theseis(loc) twn 10 prwtwn aksiologisewn tou user_i\n",
    "    user_ratings[i] = first_ratings # o user_i exei autes tis 10 aksiologiseis\n",
    "print(user_ratings_pos[1])\n",
    "# thelw kai ta positions omws gia na kserw me poia tha sigkrinw apo to ga.best_individual()"
   ]
  },
  {
   "cell_type": "code",
   "execution_count": 101,
   "metadata": {},
   "outputs": [
    {
     "data": {
      "text/plain": [
       "{1: [1, 2, 3, 4, 5, 6, 7, 8, 9, 10],\n",
       " 2: [1, 10, 13, 14, 19, 25, 50, 100, 111, 127],\n",
       " 3: [181, 245, 258, 260, 264, 268, 271, 272, 288, 294],\n",
       " 4: [11, 50, 210, 258, 260, 264, 271, 288, 294, 300],\n",
       " 5: [1, 2, 17, 21, 24, 25, 29, 40, 42, 50],\n",
       " 6: [1, 7, 8, 9, 12, 13, 14, 15, 19, 21],\n",
       " 7: [4, 7, 8, 9, 10, 11, 12, 22, 23, 25],\n",
       " 8: [7, 11, 22, 50, 55, 56, 79, 82, 89, 96],\n",
       " 9: [6, 7, 50, 201, 242, 276, 286, 294, 298, 340],\n",
       " 10: [1, 4, 7, 9, 11, 12, 13, 16, 22, 23],\n",
       " 11: [8, 9, 11, 12, 15, 22, 24, 25, 28, 29],\n",
       " 12: [4, 15, 28, 50, 69, 71, 82, 88, 96, 97],\n",
       " 13: [1, 2, 4, 5, 7, 8, 9, 11, 12, 13],\n",
       " 14: [7, 9, 12, 13, 14, 15, 18, 19, 22, 23],\n",
       " 15: [1, 7, 9, 13, 14, 15, 18, 20, 25, 50],\n",
       " 16: [1, 4, 7, 8, 9, 11, 12, 15, 22, 27],\n",
       " 17: [1, 7, 9, 13, 100, 111, 117, 125, 126, 137],\n",
       " 18: [1, 4, 6, 8, 9, 12, 13, 14, 15, 19],\n",
       " 19: [4, 8, 153, 201, 202, 210, 211, 258, 268, 288],\n",
       " 20: [1, 11, 15, 22, 50, 69, 82, 87, 94, 95],\n",
       " 21: [1, 5, 7, 9, 15, 17, 50, 53, 56, 98],\n",
       " 22: [2, 4, 17, 21, 24, 29, 50, 53, 62, 68],\n",
       " 23: [1, 7, 8, 13, 14, 19, 28, 32, 50, 55],\n",
       " 24: [7, 8, 9, 11, 12, 25, 41, 55, 56, 58],\n",
       " 25: [1, 7, 8, 13, 23, 25, 50, 79, 82, 86],\n",
       " 26: [1, 7, 9, 13, 14, 15, 24, 25, 50, 100],\n",
       " 27: [9, 50, 100, 118, 121, 123, 148, 244, 246, 281],\n",
       " 28: [5, 7, 11, 12, 28, 31, 50, 56, 70, 79],\n",
       " 29: [12, 79, 98, 180, 182, 189, 245, 259, 264, 268],\n",
       " 30: [2, 7, 28, 29, 50, 69, 82, 135, 161, 164],\n",
       " 31: [32, 79, 124, 135, 136, 153, 175, 192, 262, 268],\n",
       " 32: [7, 9, 50, 100, 111, 117, 118, 122, 151, 181],\n",
       " 33: [245, 258, 260, 271, 288, 292, 294, 300, 307, 313],\n",
       " 34: [242, 245, 259, 286, 288, 289, 292, 294, 299, 310],\n",
       " 35: [242, 243, 258, 259, 261, 264, 266, 300, 321, 322],\n",
       " 36: [261, 268, 269, 288, 289, 307, 310, 319, 333, 339],\n",
       " 37: [7, 11, 22, 24, 27, 50, 55, 56, 62, 68],\n",
       " 38: [1, 22, 28, 35, 67, 69, 70, 71, 78, 79],\n",
       " 39: [258, 269, 270, 272, 288, 294, 300, 301, 302, 306],\n",
       " 40: [242, 243, 245, 258, 259, 268, 269, 270, 271, 272],\n",
       " 41: [1, 28, 31, 50, 56, 58, 69, 96, 97, 98],\n",
       " 42: [1, 2, 12, 15, 25, 28, 38, 43, 44, 48],\n",
       " 43: [1, 3, 4, 5, 7, 8, 9, 11, 12, 14],\n",
       " 44: [1, 5, 7, 9, 11, 15, 21, 22, 24, 25],\n",
       " 45: [1, 7, 13, 15, 21, 24, 25, 50, 100, 108],\n",
       " 46: [7, 50, 93, 100, 125, 127, 151, 181, 245, 262],\n",
       " 47: [258, 262, 268, 269, 286, 288, 289, 292, 301, 302],\n",
       " 48: [28, 50, 56, 71, 98, 132, 136, 170, 172, 174],\n",
       " 49: [1, 2, 3, 4, 7, 8, 10, 11, 12, 13],\n",
       " 50: [9, 15, 100, 123, 124, 125, 246, 253, 268, 276]}"
      ]
     },
     "execution_count": 101,
     "metadata": {},
     "output_type": "execute_result"
    }
   ],
   "source": [
    "user_ratings_pos # oi theseis twn 10 prwtwn ratings twn 50 prwtwn users"
   ]
  },
  {
   "cell_type": "markdown",
   "metadata": {},
   "source": [
    "###### Για κάθε έναν απο τους 50 users εκτελώ τον γενετικό και στο διάνυσμα ga_result κρατάω εκείνες τις αξιολογήσεις της βέλτιστης λύσης που αντιστοιχούν στις θέσεις των 10 αξιολογήσεων που έχω κρατήσει για τον εκάστοτε χρήστη\n",
    "###### Στην συνέχεια εκτυπώνεται για τον καθένα το πραγματικό διάνυσμα αξιολογήσεων, αυτό που προβλέφθηκε απο τον γενετικό και τα RSME και MAE"
   ]
  },
  {
   "cell_type": "code",
   "execution_count": 102,
   "metadata": {},
   "outputs": [
    {
     "name": "stdout",
     "output_type": "stream",
     "text": [
      "Gia ton user_1:\n",
      "\n",
      "actual ratings: [5.0, 3.0, 4.0, 3.0, 3.0, 5.0, 4.0, 1.0, 5.0, 3.0]\n",
      "  predicted : [3.0, 4.0, 3.0, 3.0, 0.0, 4.0, 1.0, 5.0, 3.0, 2.0]\n",
      "\n",
      "rmse: 2.1447610589527217\n",
      "\n",
      "mae : 1.8\n",
      "\n",
      "Gia ton user_2:\n",
      "\n",
      "actual ratings: [4.0, 2.0, 4.0, 4.0, 3.0, 4.0, 5.0, 5.0, 4.0, 5.0]\n",
      "  predicted : [1.0, 4.0, 4.0, 3.8, 3.5, 1.0, 1.0, 3.0, 3.0, 4.0]\n",
      "\n",
      "rmse: 2.104518947408172\n",
      "\n",
      "mae : 1.67\n",
      "\n",
      "Gia ton user_3:\n",
      "\n",
      "actual ratings: [4.0, 1.0, 2.0, 4.0, 2.0, 3.0, 3.0, 2.0, 2.0, 2.0]\n",
      "  predicted : [2.0, 4.0, 2.6666666666666665, 2.5, 1.0, 3.875, 2.0, 1.0, 2.5, 4.0]\n",
      "\n",
      "rmse: 1.5398074374558801\n",
      "\n",
      "mae : 1.3541666666666665\n",
      "\n",
      "Gia ton user_4:\n",
      "\n",
      "actual ratings: [4.0, 5.0, 3.0, 5.0, 4.0, 3.0, 4.0, 4.0, 5.0, 5.0]\n",
      "  predicted : [5.0, 2.0, 2.0, 3.3333333333333335, 2.0, 4.0, 3.5, 2.0, 2.0, 5.0]\n",
      "\n",
      "rmse: 1.7896306260728156\n",
      "\n",
      "mae : 1.5166666666666666\n",
      "\n",
      "Gia ton user_5:\n",
      "\n",
      "actual ratings: [4.0, 3.0, 4.0, 3.0, 4.0, 3.0, 4.0, 4.0, 5.0, 4.0]\n",
      "  predicted : [3.0, 2.0, 1.0, 4.0, 3.0, 1.0, 4.0, 2.0, 1.0, 3.0]\n",
      "\n",
      "rmse: 1.9493588689617927\n",
      "\n",
      "mae : 1.6\n",
      "\n",
      "Gia ton user_6:\n",
      "\n",
      "actual ratings: [4.0, 2.0, 4.0, 4.0, 4.0, 2.0, 5.0, 3.0, 4.0, 3.0]\n",
      "  predicted : [1.0, 4.0, 4.0, 4.0, 2.0, 5.0, 3.0, 4.0, 3.0, 3.0]\n",
      "\n",
      "rmse: 1.7888543819998317\n",
      "\n",
      "mae : 1.4\n",
      "\n",
      "Gia ton user_7:\n",
      "\n",
      "actual ratings: [5.0, 5.0, 5.0, 5.0, 4.0, 3.0, 5.0, 5.0, 3.0, 3.0]\n",
      "  predicted : [3.6666666666666665, 5.0, 5.0, 4.0, 3.0, 5.0, 3.0, 3.0, 3.5, 3.3333333333333335]\n",
      "\n",
      "rmse: 1.2703892666773002\n",
      "\n",
      "mae : 1.0166666666666668\n",
      "\n",
      "Gia ton user_8:\n",
      "\n",
      "actual ratings: [3.0, 3.0, 5.0, 5.0, 5.0, 5.0, 4.0, 5.0, 4.0, 3.0]\n",
      "  predicted : [4.5, 4.0, 2.0, 1.0, 5.0, 1.0, 1.0, 4.5, 1.0, 1.0]\n",
      "\n",
      "rmse: 2.5787593916455256\n",
      "\n",
      "mae : 2.2\n",
      "\n",
      "Gia ton user_9:\n",
      "\n",
      "actual ratings: [5.0, 4.0, 5.0, 5.0, 4.0, 4.0, 5.0, 4.0, 5.0, 4.0]\n",
      "  predicted : [4.0, 2.0, 4.0, 1.0, 2.0, 3.0, 4.0, 3.5, 4.0, 2.0]\n",
      "\n",
      "rmse: 1.823458252881047\n",
      "\n",
      "mae : 1.55\n",
      "\n",
      "Gia ton user_10:\n",
      "\n",
      "actual ratings: [4.0, 4.0, 4.0, 4.0, 4.0, 5.0, 3.0, 4.0, 5.0, 5.0]\n",
      "  predicted : [2.5, 3.25, 4.375, 3.3333333333333335, 5.0, 3.0, 3.857142857142857, 4.0, 5.0, 2.6666666666666665]\n",
      "\n",
      "rmse: 1.2073403731524888\n",
      "\n",
      "mae : 0.9482142857142858\n",
      "\n",
      "Gia ton user_11:\n",
      "\n",
      "actual ratings: [4.0, 5.0, 2.0, 2.0, 5.0, 4.0, 3.0, 3.0, 5.0, 3.0]\n",
      "  predicted : [5.0, 3.6, 2.0, 3.4285714285714284, 5.0, 4.333333333333333, 3.0, 3.0, 3.0, 5.0]\n",
      "\n",
      "rmse: 1.1450732482091144\n",
      "\n",
      "mae : 0.8161904761904761\n",
      "\n",
      "Gia ton user_12:\n",
      "\n",
      "actual ratings: [5.0, 5.0, 5.0, 4.0, 5.0, 4.0, 4.0, 5.0, 4.0, 5.0]\n",
      "  predicted : [3.5, 2.0, 4.0, 4.0, 3.7142857142857144, 3.25, 3.6666666666666665, 4.333333333333333, 5.0, 5.0]\n",
      "\n",
      "rmse: 1.2657455028577171\n",
      "\n",
      "mae : 0.9535714285714286\n",
      "\n",
      "Gia ton user_13:\n",
      "\n",
      "actual ratings: [3.0, 3.0, 5.0, 1.0, 2.0, 4.0, 3.0, 1.0, 5.0, 5.0]\n",
      "  predicted : [3.0, 2.0, 1.0, 2.0, 4.0, 3.0, 3.5, 5.0, 5.0, 4.0]\n",
      "\n",
      "rmse: 2.006240264773888\n",
      "\n",
      "mae : 1.45\n",
      "\n",
      "Gia ton user_14:\n",
      "\n",
      "actual ratings: [5.0, 4.0, 5.0, 4.0, 3.0, 4.0, 3.0, 5.0, 3.0, 5.0]\n",
      "  predicted : [4.285714285714286, 4.0, 4.0, 3.0, 4.0, 1.0, 5.0, 2.6666666666666665, 5.0, 1.0]\n",
      "\n",
      "rmse: 2.0482833916740404\n",
      "\n",
      "mae : 1.7047619047619047\n",
      "\n",
      "Gia ton user_15:\n",
      "\n",
      "actual ratings: [1.0, 1.0, 4.0, 1.0, 4.0, 4.0, 1.0, 3.0, 3.0, 5.0]\n",
      "  predicted : [1.0, 3.0, 2.6666666666666665, 4.0, 4.0, 2.0, 2.0, 2.0, 1.0, 3.0]\n",
      "\n",
      "rmse: 1.6964014199999298\n",
      "\n",
      "mae : 1.4333333333333333\n",
      "\n",
      "Gia ton user_16:\n",
      "\n",
      "actual ratings: [5.0, 5.0, 5.0, 5.0, 5.0, 5.0, 5.0, 5.0, 5.0, 2.0]\n",
      "  predicted : [3.25, 3.6666666666666665, 5.0, 5.0, 1.0, 5.0, 4.0, 2.0, 4.25, 5.0]\n",
      "\n",
      "rmse: 2.010044222841323\n",
      "\n",
      "mae : 1.4833333333333334\n",
      "\n",
      "Gia ton user_17:\n",
      "\n",
      "actual ratings: [4.0, 4.0, 3.0, 3.0, 4.0, 3.0, 3.0, 1.0, 4.0, 4.0]\n",
      "  predicted : [2.0, 1.0, 0.0, 4.2, 4.0, 2.0, 3.25, 4.0, 4.75, 1.0]\n",
      "\n",
      "rmse: 2.0752108326625516\n",
      "\n",
      "mae : 1.72\n",
      "\n",
      "Gia ton user_18:\n",
      "\n",
      "actual ratings: [5.0, 3.0, 5.0, 5.0, 5.0, 5.0, 5.0, 5.0, 4.0, 3.0]\n",
      "  predicted : [1.5, 3.0, 3.5, 5.0, 4.0, 5.0, 5.0, 4.0, 2.0, 3.0]\n",
      "\n",
      "rmse: 1.4317821063276353\n",
      "\n",
      "mae : 0.9\n",
      "\n",
      "Gia ton user_19:\n",
      "\n",
      "actual ratings: [4.0, 5.0, 4.0, 3.0, 4.0, 3.0, 4.0, 4.0, 2.0, 3.0]\n",
      "  predicted : [1.0, 1.0, 5.0, 4.0, 3.0, 4.0, 1.0, 4.0, 3.25, 2.6666666666666665]\n",
      "\n",
      "rmse: 1.9918235642523943\n",
      "\n",
      "mae : 1.5583333333333333\n",
      "\n",
      "Gia ton user_20:\n",
      "\n",
      "actual ratings: [3.0, 2.0, 4.0, 5.0, 3.0, 1.0, 4.0, 5.0, 2.0, 3.0]\n",
      "  predicted : [3.0, 5.0, 2.0, 3.0, 4.0, 3.75, 5.0, 3.8, 3.0, 3.8333333333333335]\n",
      "\n",
      "rmse: 1.7232801410230563\n",
      "\n",
      "mae : 1.4783333333333333\n",
      "\n",
      "Gia ton user_21:\n",
      "\n",
      "actual ratings: [5.0, 2.0, 5.0, 5.0, 4.0, 4.0, 3.0, 4.0, 5.0, 5.0]\n",
      "  predicted : [5.0, 3.0, 4.0, 5.0, 3.0, 3.0, 1.0, 2.0, 2.0, 5.0]\n",
      "\n",
      "rmse: 1.449137674618944\n",
      "\n",
      "mae : 1.1\n",
      "\n",
      "Gia ton user_22:\n",
      "\n",
      "actual ratings: [2.0, 5.0, 4.0, 4.0, 5.0, 1.0, 5.0, 3.0, 4.0, 4.0]\n",
      "  predicted : [2.0, 3.5, 1.0, 4.333333333333333, 3.0, 0.0, 4.0, 3.0, 3.75, 4.0]\n",
      "\n",
      "rmse: 1.3199852692780745\n",
      "\n",
      "mae : 0.9083333333333332\n",
      "\n",
      "Gia ton user_23:\n",
      "\n",
      "actual ratings: [5.0, 4.0, 4.0, 4.0, 4.0, 4.0, 3.0, 3.0, 4.0, 4.0]\n",
      "  predicted : [3.2, 4.0, 4.4, 4.0, 3.25, 4.0, 2.5, 1.0, 1.0, 4.0]\n",
      "\n",
      "rmse: 1.3119641763401926\n",
      "\n",
      "mae : 0.845\n",
      "\n",
      "Gia ton user_24:\n",
      "\n",
      "actual ratings: [4.0, 5.0, 5.0, 5.0, 5.0, 4.0, 5.0, 5.0, 4.0, 3.0]\n",
      "  predicted : [5.0, 5.0, 1.0, 5.0, 3.6666666666666665, 1.0, 3.7142857142857144, 4.0, 4.5, 4.0]\n",
      "\n",
      "rmse: 1.7799112057141382\n",
      "\n",
      "mae : 1.3119047619047621\n",
      "\n",
      "Gia ton user_25:\n",
      "\n",
      "actual ratings: [5.0, 4.0, 4.0, 4.0, 4.0, 5.0, 5.0, 4.0, 4.0, 4.0]\n",
      "  predicted : [3.0, 4.0, 5.0, 4.0, 2.0, 1.0, 1.0, 2.0, 3.8, 1.0]\n",
      "\n",
      "rmse: 2.3246505113672464\n",
      "\n",
      "mae : 1.8199999999999998\n",
      "\n",
      "Gia ton user_26:\n",
      "\n",
      "actual ratings: [3.0, 3.0, 4.0, 3.0, 3.0, 4.0, 3.0, 3.0, 4.0, 5.0]\n",
      "  predicted : [4.0, 2.0, 2.5, 3.0, 4.0, 3.0, 3.0, 2.0, 1.0, 3.0]\n",
      "\n",
      "rmse: 1.4230249470757708\n",
      "\n",
      "mae : 1.15\n",
      "\n",
      "Gia ton user_27:\n",
      "\n",
      "actual ratings: [4.0, 3.0, 5.0, 3.0, 4.0, 5.0, 3.0, 3.0, 4.0, 3.0]\n",
      "  predicted : [3.0, 0.0, 0.0, 1.0, 2.0, 3.0, 2.0, 2.25, 2.0, 3.6666666666666665]\n",
      "\n",
      "rmse: 2.302323705399491\n",
      "\n",
      "mae : 1.9416666666666669\n",
      "\n",
      "Gia ton user_28:\n",
      "\n",
      "actual ratings: [3.0, 5.0, 4.0, 4.0, 4.0, 4.0, 4.0, 5.0, 4.0, 4.0]\n",
      "  predicted : [3.0, 5.0, 4.0, 3.0, 2.0, 3.5, 1.0, 5.0, 2.5, 1.0]\n",
      "\n",
      "rmse: 1.5968719422671311\n",
      "\n",
      "mae : 1.1\n",
      "\n",
      "Gia ton user_29:\n",
      "\n",
      "actual ratings: [5.0, 4.0, 4.0, 4.0, 4.0, 4.0, 3.0, 4.0, 3.0, 5.0]\n",
      "  predicted : [4.0, 4.0, 1.0, 5.0, 5.0, 1.0, 4.0, 4.0, 5.0, 4.0]\n",
      "\n",
      "rmse: 1.6431676725154984\n",
      "\n",
      "mae : 1.3\n",
      "\n",
      "Gia ton user_30:\n",
      "\n",
      "actual ratings: [3.0, 4.0, 4.0, 3.0, 3.0, 5.0, 4.0, 5.0, 4.0, 4.0]\n",
      "  predicted : [4.0, 5.0, 3.0, 0.0, 1.0, 3.0, 4.0, 4.0, 3.0, 4.0]\n",
      "\n",
      "rmse: 1.4832396974191326\n",
      "\n",
      "mae : 1.2\n",
      "\n",
      "Gia ton user_31:\n",
      "\n",
      "actual ratings: [5.0, 2.0, 4.0, 4.0, 5.0, 4.0, 5.0, 4.0, 5.0, 3.0]\n",
      "  predicted : [5.0, 1.0, 3.0, 5.0, 5.0, 3.0, 4.5, 3.0, 3.0, 4.0]\n",
      "\n",
      "rmse: 1.0124228365658292\n",
      "\n",
      "mae : 0.85\n",
      "\n",
      "Gia ton user_32:\n",
      "\n",
      "actual ratings: [4.0, 3.0, 4.0, 3.0, 3.0, 3.0, 3.0, 2.0, 3.0, 4.0]\n",
      "  predicted : [1.0, 3.0, 2.0, 5.0, 3.0, 3.0, 3.0, 3.5, 2.0, 1.0]\n",
      "\n",
      "rmse: 1.710263137648707\n",
      "\n",
      "mae : 1.25\n",
      "\n",
      "Gia ton user_33:\n",
      "\n",
      "actual ratings: [3.0, 4.0, 4.0, 4.0, 4.0, 4.0, 3.0, 4.0, 3.0, 5.0]\n",
      "  predicted : [2.0, 3.0, 2.5, 5.0, 3.0, 3.0, 4.0, 2.6666666666666665, 2.0, 0.0]\n",
      "\n",
      "rmse: 1.898098463667725\n",
      "\n",
      "mae : 1.4833333333333334\n",
      "\n",
      "Gia ton user_34:\n",
      "\n",
      "actual ratings: [5.0, 4.0, 2.0, 5.0, 2.0, 1.0, 5.0, 1.0, 5.0, 4.0]\n",
      "  predicted : [4.5, 3.0, 4.0, 3.0, 1.0, 4.0, 5.0, 3.0, 4.0, 3.75]\n",
      "\n",
      "rmse: 1.5592466129512674\n",
      "\n",
      "mae : 1.275\n",
      "\n",
      "Gia ton user_35:\n",
      "\n",
      "actual ratings: [2.0, 2.0, 2.0, 4.0, 3.0, 2.0, 3.0, 5.0, 3.0, 3.0]\n",
      "  predicted : [2.0, 3.0, 4.0, 4.0, 1.0, 3.0, 3.0, 2.5, 3.0, 3.375]\n",
      "\n",
      "rmse: 1.2802587629069369\n",
      "\n",
      "mae : 0.8875\n",
      "\n",
      "Gia ton user_36:\n",
      "\n",
      "actual ratings: [5.0, 2.0, 3.0, 4.0, 2.0, 4.0, 4.0, 2.0, 4.0, 5.0]\n",
      "  predicted : [3.0, 3.0, 4.0, 2.0, 3.0, 2.6666666666666665, 4.0, 4.0, 2.75, 3.1666666666666665]\n",
      "\n",
      "rmse: 1.473139127471974\n",
      "\n",
      "mae : 1.3416666666666668\n",
      "\n",
      "Gia ton user_37:\n",
      "\n",
      "actual ratings: [4.0, 4.0, 5.0, 4.0, 4.0, 5.0, 3.0, 5.0, 5.0, 5.0]\n",
      "  predicted : [4.0, 5.0, 4.0, 4.0, 5.0, 1.0, 5.0, 5.0, 5.0, 5.0]\n",
      "\n",
      "rmse: 1.51657508881031\n",
      "\n",
      "mae : 0.9\n",
      "\n",
      "Gia ton user_38:\n",
      "\n",
      "actual ratings: [5.0, 5.0, 4.0, 5.0, 4.0, 5.0, 5.0, 5.0, 5.0, 3.0]\n",
      "  predicted : [3.5, 3.0, 2.75, 2.0, 3.6666666666666665, 5.0, 5.0, 3.5, 3.0, 3.3333333333333335]\n",
      "\n",
      "rmse: 1.5259332299357735\n",
      "\n",
      "mae : 1.1916666666666669\n",
      "\n",
      "Gia ton user_39:\n",
      "\n",
      "actual ratings: [4.0, 4.0, 4.0, 2.0, 5.0, 4.0, 3.0, 3.0, 5.0, 3.0]\n",
      "  predicted : [2.0, 4.0, 2.3333333333333335, 3.0, 3.0, 4.0, 3.0, 5.0, 4.0, 2.0]\n",
      "\n",
      "rmse: 1.3333333333333335\n",
      "\n",
      "mae : 1.0666666666666667\n",
      "\n",
      "Gia ton user_40:\n",
      "\n",
      "actual ratings: [4.0, 2.0, 3.0, 3.0, 2.0, 4.0, 1.0, 3.0, 2.0, 2.0]\n",
      "  predicted : [2.0, 2.0, 3.0, 2.0, 3.0, 1.0, 3.0, 2.0, 2.0, 2.0]\n",
      "\n",
      "rmse: 1.4142135623730951\n",
      "\n",
      "mae : 1.0\n",
      "\n"
     ]
    },
    {
     "name": "stdout",
     "output_type": "stream",
     "text": [
      "Gia ton user_41:\n",
      "\n",
      "actual ratings: [4.0, 4.0, 3.0, 5.0, 4.0, 3.0, 4.0, 4.0, 3.0, 4.0]\n",
      "  predicted : [3.0, 3.0, 5.0, 5.0, 5.0, 2.0, 3.5, 3.0, 4.0, 5.0]\n",
      "\n",
      "rmse: 1.0606601717798212\n",
      "\n",
      "mae : 0.95\n",
      "\n",
      "Gia ton user_42:\n",
      "\n",
      "actual ratings: [5.0, 5.0, 4.0, 4.0, 3.0, 5.0, 3.0, 2.0, 3.0, 5.0]\n",
      "  predicted : [5.0, 1.0, 4.0, 5.0, 2.0, 3.25, 3.5, 3.0, 3.0, 3.2]\n",
      "\n",
      "rmse: 1.5985149358076076\n",
      "\n",
      "mae : 1.105\n",
      "\n",
      "Gia ton user_43:\n",
      "\n",
      "actual ratings: [5.0, 2.0, 4.0, 4.0, 4.0, 4.0, 4.0, 5.0, 5.0, 2.0]\n",
      "  predicted : [3.6666666666666665, 4.0, 4.0, 3.0, 4.0, 4.0, 2.5, 5.0, 3.0, 5.0]\n",
      "\n",
      "rmse: 1.4841757907262125\n",
      "\n",
      "mae : 1.0833333333333335\n",
      "\n",
      "Gia ton user_44:\n",
      "\n",
      "actual ratings: [4.0, 4.0, 5.0, 5.0, 3.0, 4.0, 2.0, 4.0, 3.0, 2.0]\n",
      "  predicted : [3.1666666666666665, 1.0, 3.0, 4.5, 4.0, 3.0, 4.0, 3.0, 2.0, 2.0]\n",
      "\n",
      "rmse: 1.4813657362192647\n",
      "\n",
      "mae : 1.2333333333333334\n",
      "\n",
      "Gia ton user_45:\n",
      "\n",
      "actual ratings: [5.0, 3.0, 5.0, 4.0, 3.0, 3.0, 4.0, 5.0, 5.0, 4.0]\n",
      "  predicted : [5.0, 4.0, 3.0, 1.0, 3.0, 4.0, 3.0, 1.0, 5.0, 5.0]\n",
      "\n",
      "rmse: 1.816590212458495\n",
      "\n",
      "mae : 1.3\n",
      "\n",
      "Gia ton user_46:\n",
      "\n",
      "actual ratings: [4.0, 4.0, 4.0, 4.0, 4.0, 5.0, 4.0, 4.0, 3.0, 5.0]\n",
      "  predicted : [1.0, 4.0, 2.0, 3.0, 3.0, 1.0, 1.0, 1.0, 2.0, 3.0]\n",
      "\n",
      "rmse: 2.32379000772445\n",
      "\n",
      "mae : 2.0\n",
      "\n",
      "Gia ton user_47:\n",
      "\n",
      "actual ratings: [4.0, 5.0, 4.0, 4.0, 3.0, 2.0, 4.0, 4.0, 4.0, 5.0]\n",
      "  predicted : [2.3333333333333335, 5.0, 4.0, 4.0, 1.0, 4.0, 4.0, 4.0, 5.0, 4.0]\n",
      "\n",
      "rmse: 1.130388330520878\n",
      "\n",
      "mae : 0.7666666666666666\n",
      "\n",
      "Gia ton user_48:\n",
      "\n",
      "actual ratings: [2.0, 4.0, 3.0, 3.0, 5.0, 5.0, 4.0, 4.0, 5.0, 5.0]\n",
      "  predicted : [2.0, 3.0, 5.0, 5.0, 3.0, 4.5, 4.0, 5.0, 4.0, 4.0]\n",
      "\n",
      "rmse: 1.2747548783981961\n",
      "\n",
      "mae : 1.05\n",
      "\n",
      "Gia ton user_49:\n",
      "\n",
      "actual ratings: [2.0, 1.0, 3.0, 2.0, 4.0, 3.0, 3.0, 3.0, 4.0, 3.0]\n",
      "  predicted : [1.0, 3.0, 2.0, 2.8, 3.0, 4.285714285714286, 3.0, 4.0, 3.0, 4.5]\n",
      "\n",
      "rmse: 1.1637465885874723\n",
      "\n",
      "mae : 1.0585714285714285\n",
      "\n",
      "Gia ton user_50:\n",
      "\n",
      "actual ratings: [4.0, 2.0, 2.0, 4.0, 1.0, 2.0, 3.0, 5.0, 4.0, 2.0]\n",
      "  predicted : [3.0, 4.0, 2.0, 1.0, 2.0, 4.0, 1.0, 4.0, 4.0, 4.0]\n",
      "\n",
      "rmse: 1.6733200530681511\n",
      "\n",
      "mae : 1.4\n",
      "\n"
     ]
    }
   ],
   "source": [
    "from math import sqrt\n",
    "from sklearn.metrics import mean_absolute_error\n",
    "\n",
    "def rmse(predictions, targets):\n",
    "    return np.sqrt(((predictions - targets) ** 2).mean())\n",
    "\n",
    "for key,value in user_ratings_pos.items():\n",
    "    user_id = key # oi xristes 1-50\n",
    "    data = find_neighborhood(key)\n",
    "    ga = pyeasyga.GeneticAlgorithm(data,\n",
    "                              population_size=200,\n",
    "                              generations=100,\n",
    "                              crossover_probability=0.9,\n",
    "                              mutation_probability=0.01,\n",
    "                              elitism=False,\n",
    "                              maximise_fitness=True)\n",
    "    ga.create_individual = create_individual\n",
    "    ga.crossover_function = crossover\n",
    "    ga.fitness_function = fitness\n",
    "    ga.run()\n",
    "    ga_result = []\n",
    "    for pos in value:\n",
    "        ga_result.append(ga.best_individual()[1][pos])\n",
    "    print(f'Gia ton user_{key}:\\n')\n",
    "    print(f'actual ratings: {user_ratings[key]}\\n  predicted : {ga_result}\\n')\n",
    "    print(f'rmse: {rmse(np.array(ga_result),np.array(user_ratings[key]))}\\n')\n",
    "    print(f'mae : {mean_absolute_error(ga_result,user_ratings[key])}\\n')"
   ]
  },
  {
   "cell_type": "code",
   "execution_count": null,
   "metadata": {},
   "outputs": [],
   "source": []
  }
 ],
 "metadata": {
  "kernelspec": {
   "display_name": "Python 3",
   "language": "python",
   "name": "python3"
  },
  "language_info": {
   "codemirror_mode": {
    "name": "ipython",
    "version": 3
   },
   "file_extension": ".py",
   "mimetype": "text/x-python",
   "name": "python",
   "nbconvert_exporter": "python",
   "pygments_lexer": "ipython3",
   "version": "3.7.3"
  }
 },
 "nbformat": 4,
 "nbformat_minor": 2
}
